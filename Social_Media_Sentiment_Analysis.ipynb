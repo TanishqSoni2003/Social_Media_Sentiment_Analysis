{
  "nbformat": 4,
  "nbformat_minor": 0,
  "metadata": {
    "colab": {
      "provenance": [],
      "authorship_tag": "ABX9TyMttIkPY09a8JFBvYF5Q0or",
      "include_colab_link": true
    },
    "kernelspec": {
      "name": "python3",
      "display_name": "Python 3"
    },
    "language_info": {
      "name": "python"
    }
  },
  "cells": [
    {
      "cell_type": "markdown",
      "metadata": {
        "id": "view-in-github",
        "colab_type": "text"
      },
      "source": [
        "<a href=\"https://colab.research.google.com/github/TanishqSoni2003/Social_Media_Sentiment_Analysis/blob/main/Social_Media_Sentiment_Analysis.ipynb\" target=\"_parent\"><img src=\"https://colab.research.google.com/assets/colab-badge.svg\" alt=\"Open In Colab\"/></a>"
      ]
    },
    {
      "cell_type": "code",
      "execution_count": null,
      "metadata": {
        "colab": {
          "base_uri": "https://localhost:8080/"
        },
        "id": "EmlQjm63wGio",
        "outputId": "76c06789-3f98-4e24-e81a-7a416bec1bf7"
      },
      "outputs": [
        {
          "output_type": "stream",
          "name": "stdout",
          "text": [
            "Requirement already satisfied: textblob in /usr/local/lib/python3.10/dist-packages (0.17.1)\n",
            "Requirement already satisfied: nltk>=3.1 in /usr/local/lib/python3.10/dist-packages (from textblob) (3.8.1)\n",
            "Requirement already satisfied: click in /usr/local/lib/python3.10/dist-packages (from nltk>=3.1->textblob) (8.1.7)\n",
            "Requirement already satisfied: joblib in /usr/local/lib/python3.10/dist-packages (from nltk>=3.1->textblob) (1.4.2)\n",
            "Requirement already satisfied: regex>=2021.8.3 in /usr/local/lib/python3.10/dist-packages (from nltk>=3.1->textblob) (2024.5.15)\n",
            "Requirement already satisfied: tqdm in /usr/local/lib/python3.10/dist-packages (from nltk>=3.1->textblob) (4.66.5)\n"
          ]
        }
      ],
      "source": [
        "!pip install textblob"
      ]
    },
    {
      "cell_type": "code",
      "source": [
        "from textblob import TextBlob"
      ],
      "metadata": {
        "id": "Dy51h8R3yBGx"
      },
      "execution_count": null,
      "outputs": []
    },
    {
      "cell_type": "code",
      "source": [
        "# Function to analyze sentiment\n",
        "def analyze_sentiment(text):\n",
        "    blob = TextBlob(text)\n",
        "    sentiment = blob.sentiment\n",
        "    return sentiment.polarity, sentiment.subjectivity\n",
        "\n",
        "# Read input texts from a file\n",
        "with open('input_texts.txt', 'r') as file:\n",
        "    texts = file.readlines()\n",
        "\n",
        "# Analyze sentiments and save results to a new file\n",
        "with open('sentiment_results.txt', 'w') as file:\n",
        "    for text in texts:\n",
        "        text = text.strip()\n",
        "        if text:\n",
        "            polarity, subjectivity = analyze_sentiment(text)\n",
        "            sentiment = \"Positive\" if polarity > 0 else \"Negative\" if polarity < 0 else \"Neutral\"\n",
        "            result = f\"Text: {text}\\nSentiment: {sentiment} (Polarity: {polarity}, Subjectivity: {subjectivity})\\n\\n\"\n",
        "            file.write(result)\n",
        "\n",
        "print(\"Sentiment analysis complete. Results saved to 'sentiment_results.txt'.\")\n"
      ],
      "metadata": {
        "colab": {
          "base_uri": "https://localhost:8080/"
        },
        "id": "LW28MRO3wpbp",
        "outputId": "5d4a4628-6ff2-49f8-cb62-6b368dc756ee"
      },
      "execution_count": null,
      "outputs": [
        {
          "output_type": "stream",
          "name": "stdout",
          "text": [
            "Sentiment analysis complete. Results saved to 'sentiment_results.txt'.\n"
          ]
        }
      ]
    },
    {
      "cell_type": "code",
      "source": [
        "# Display the results in Colab\n",
        "with open('sentiment_results.txt', 'r') as file:\n",
        "    content = file.read()\n",
        "\n",
        "print(content)"
      ],
      "metadata": {
        "colab": {
          "base_uri": "https://localhost:8080/"
        },
        "id": "hPwWNPigwxO_",
        "outputId": "a0c81e53-adc3-44a9-d10c-ae3594a84af1"
      },
      "execution_count": null,
      "outputs": [
        {
          "output_type": "stream",
          "name": "stdout",
          "text": [
            "Text: I love this product! It's amazing.\n",
            "Sentiment: Positive (Polarity: 0.6125, Subjectivity: 0.75)\n",
            "\n",
            "Text: This is the worst service I have ever received.\n",
            "Sentiment: Negative (Polarity: -1.0, Subjectivity: 1.0)\n",
            "\n",
            "Text: I'm not sure how I feel about this.\n",
            "Sentiment: Negative (Polarity: -0.25, Subjectivity: 0.8888888888888888)\n",
            "\n",
            "Text: Absolutely fantastic experience!\n",
            "Sentiment: Positive (Polarity: 0.5, Subjectivity: 0.9)\n",
            "\n",
            "Text: It was okay, nothing special.\n",
            "Sentiment: Positive (Polarity: 0.4285714285714286, Subjectivity: 0.5357142857142857)\n",
            "\n",
            "\n"
          ]
        }
      ]
    }
  ]
}